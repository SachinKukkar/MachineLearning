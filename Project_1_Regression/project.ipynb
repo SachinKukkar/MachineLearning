{
 "cells": [
  {
   "cell_type": "code",
   "execution_count": null,
   "id": "5b0092a8",
   "metadata": {},
   "outputs": [],
   "source": [
    "import pandas as pd\n",
    "import numpy as np\n",
    "import matplotlib.pyplot as plt\n",
    "import seaborn as sns\n",
    "%matplotlib inline"
   ]
  },
  {
   "cell_type": "code",
   "execution_count": null,
   "id": "a905e4aa",
   "metadata": {},
   "outputs": [],
   "source": [
    "df = pd.read_csv('Algerian_forest_fires_dataset.csv')\n",
    "df.head()"
   ]
  },
  {
   "cell_type": "code",
   "execution_count": null,
   "id": "43c1d505",
   "metadata": {},
   "outputs": [],
   "source": [
    "df.info()"
   ]
  },
  {
   "cell_type": "code",
   "execution_count": null,
   "id": "61b96c73",
   "metadata": {},
   "outputs": [],
   "source": [
    "## Data Cleaning\n",
    "df.isnull().sum()"
   ]
  },
  {
   "cell_type": "code",
   "execution_count": null,
   "id": "baf5095a",
   "metadata": {},
   "outputs": [],
   "source": [
    "df[df.isnull().any(axis=1)]"
   ]
  },
  {
   "cell_type": "code",
   "execution_count": null,
   "id": "081e75ac",
   "metadata": {},
   "outputs": [],
   "source": [
    "### The data set is converted into two sets based on the Region from 122th index , we can make a new column based on Region:\n",
    "### 1. Bejaia Region Dataset\n",
    "### 2. Sidi-Bel Abbes Region Dataset\n",
    "\n",
    "## Add new column with region"
   ]
  },
  {
   "cell_type": "code",
   "execution_count": null,
   "id": "20d4830c",
   "metadata": {},
   "outputs": [],
   "source": [
    "df.loc[:122,\"Region\"]=0\n",
    "df.loc[122:,\"Region\"]=1"
   ]
  },
  {
   "cell_type": "code",
   "execution_count": null,
   "id": "9b533332",
   "metadata": {},
   "outputs": [],
   "source": [
    "df.head()\n"
   ]
  },
  {
   "cell_type": "code",
   "execution_count": null,
   "id": "a183bd0a",
   "metadata": {},
   "outputs": [],
   "source": [
    "df.tail()"
   ]
  },
  {
   "cell_type": "code",
   "execution_count": null,
   "id": "1baa4885",
   "metadata": {},
   "outputs": [],
   "source": [
    "df[['Region']] = df[['Region']].astype(int)"
   ]
  },
  {
   "cell_type": "code",
   "execution_count": null,
   "id": "ceb9186f",
   "metadata": {},
   "outputs": [],
   "source": [
    "df.info()"
   ]
  },
  {
   "cell_type": "code",
   "execution_count": null,
   "id": "535fef77",
   "metadata": {},
   "outputs": [],
   "source": [
    "df.isnull().sum()"
   ]
  },
  {
   "cell_type": "code",
   "execution_count": null,
   "id": "2f7dbac4",
   "metadata": {},
   "outputs": [],
   "source": [
    "## Removing the null values \n",
    "df=df.dropna().reset_index(drop=True)"
   ]
  },
  {
   "cell_type": "code",
   "execution_count": null,
   "id": "9c8356ae",
   "metadata": {},
   "outputs": [],
   "source": [
    "df.head()"
   ]
  },
  {
   "cell_type": "code",
   "execution_count": null,
   "id": "9737aeb5",
   "metadata": {},
   "outputs": [],
   "source": [
    "df.isnull().sum()"
   ]
  },
  {
   "cell_type": "code",
   "execution_count": null,
   "id": "5314d02c",
   "metadata": {},
   "outputs": [],
   "source": [
    "df.iloc[[122]]"
   ]
  },
  {
   "cell_type": "code",
   "execution_count": null,
   "id": "0873d2e7",
   "metadata": {},
   "outputs": [],
   "source": [
    "df = df.drop(122).reset_index(drop=True)"
   ]
  },
  {
   "cell_type": "code",
   "execution_count": null,
   "id": "47f224bb",
   "metadata": {},
   "outputs": [],
   "source": [
    "df.iloc[[122]]"
   ]
  },
  {
   "cell_type": "code",
   "execution_count": null,
   "id": "abcf239f",
   "metadata": {},
   "outputs": [],
   "source": [
    "df.columns"
   ]
  },
  {
   "cell_type": "code",
   "execution_count": null,
   "id": "6a4a3ea8",
   "metadata": {},
   "outputs": [],
   "source": [
    "## Fixing the spaces in the column names \n",
    "\n",
    "df.columns = df.columns.str.strip()"
   ]
  },
  {
   "cell_type": "code",
   "execution_count": null,
   "id": "17001a29",
   "metadata": {},
   "outputs": [],
   "source": [
    "df.columns"
   ]
  },
  {
   "cell_type": "code",
   "execution_count": null,
   "id": "a7185428",
   "metadata": {},
   "outputs": [],
   "source": [
    "## Changing the required columns to integer datatype\n",
    "df[['day', 'month', 'year', 'Temperature', 'RH', 'Ws']] = df[['day', 'month', 'year', 'Temperature', 'RH', 'Ws']].astype(int)"
   ]
  },
  {
   "cell_type": "code",
   "execution_count": null,
   "id": "96548b58",
   "metadata": {},
   "outputs": [],
   "source": [
    "df.info()"
   ]
  },
  {
   "cell_type": "code",
   "execution_count": null,
   "id": "3a8cef90",
   "metadata": {},
   "outputs": [],
   "source": [
    "df.head()\n"
   ]
  },
  {
   "cell_type": "code",
   "execution_count": null,
   "id": "2fe4e0f1",
   "metadata": {},
   "outputs": [],
   "source": [
    "## Changing the other columns to float datatype \n",
    "objects = [features for features in df.columns if df[features].dtypes=='O']"
   ]
  },
  {
   "cell_type": "code",
   "execution_count": null,
   "id": "e7a35552",
   "metadata": {},
   "outputs": [],
   "source": [
    "for i in objects:\n",
    "    if i!='Classes':\n",
    "        df[i] = df[i].astype(float)"
   ]
  },
  {
   "cell_type": "code",
   "execution_count": null,
   "id": "946b69b7",
   "metadata": {},
   "outputs": [],
   "source": [
    "df.info()"
   ]
  },
  {
   "cell_type": "code",
   "execution_count": null,
   "id": "21341587",
   "metadata": {},
   "outputs": [],
   "source": [
    "df.describe()"
   ]
  },
  {
   "cell_type": "code",
   "execution_count": null,
   "id": "e1403a56",
   "metadata": {},
   "outputs": [],
   "source": [
    "## Let's saved the cleaned dataset\n",
    "df.to_csv('Algerian_Forest_Fires_Cleaned_Dataset',index=False)"
   ]
  },
  {
   "cell_type": "code",
   "execution_count": null,
   "id": "d8a6c3cb",
   "metadata": {},
   "outputs": [],
   "source": [
    "## exploratory data analysis\n",
    "dfcopy = df"
   ]
  },
  {
   "cell_type": "code",
   "execution_count": null,
   "id": "706ea5b7",
   "metadata": {},
   "outputs": [],
   "source": [
    "dfcopy.head()"
   ]
  },
  {
   "cell_type": "code",
   "execution_count": null,
   "id": "ada6ae07",
   "metadata": {},
   "outputs": [],
   "source": [
    "dfcopy=dfcopy.drop(['day','month','year'],axis=1)"
   ]
  },
  {
   "cell_type": "code",
   "execution_count": null,
   "id": "3153366f",
   "metadata": {},
   "outputs": [],
   "source": [
    "dfcopy.head()"
   ]
  },
  {
   "cell_type": "code",
   "execution_count": null,
   "id": "0259870e",
   "metadata": {},
   "outputs": [],
   "source": [
    "## Encoding of categorical classes\n",
    "dfcopy['Classes'] = np.where(dfcopy['Classes'].str.contains('not fire'),0,1)"
   ]
  },
  {
   "cell_type": "code",
   "execution_count": null,
   "id": "28eaf9a2",
   "metadata": {},
   "outputs": [],
   "source": [
    "dfcopy.head()\n"
   ]
  },
  {
   "cell_type": "code",
   "execution_count": null,
   "id": "4941cdc5",
   "metadata": {},
   "outputs": [],
   "source": [
    "dfcopy.tail()"
   ]
  },
  {
   "cell_type": "code",
   "execution_count": null,
   "id": "373f04ca",
   "metadata": {},
   "outputs": [],
   "source": [
    "dfcopy['Classes'].value_counts()"
   ]
  },
  {
   "cell_type": "code",
   "execution_count": null,
   "id": "01a76062",
   "metadata": {},
   "outputs": [],
   "source": [
    "import matplotlib.pyplot as plt\n",
    "\n",
    "# Use updated style\n",
    "plt.style.use('seaborn-v0_8')\n",
    "\n",
    "dfcopy.hist(bins=50, figsize=(20,15))\n",
    "plt.show()\n"
   ]
  },
  {
   "cell_type": "code",
   "execution_count": null,
   "id": "a52dd438",
   "metadata": {},
   "outputs": [],
   "source": [
    "## Percentage for pie chart\n",
    "percentage = dfcopy['Classes'].value_counts(normalize=True)*100"
   ]
  },
  {
   "cell_type": "code",
   "execution_count": null,
   "id": "7d12315f",
   "metadata": {},
   "outputs": [],
   "source": [
    "## Plotting pie chart \n",
    "classlabels = ['Fire','Not Fire']\n",
    "plt.figure(figsize=(12,7))\n",
    "plt.pie(percentage,labels=classlabels,autopct='%1.1f%%')\n",
    "plt.title('Pie Chart of Classes')\n",
    "plt.show()"
   ]
  },
  {
   "cell_type": "code",
   "execution_count": null,
   "id": "c7c8b871",
   "metadata": {},
   "outputs": [],
   "source": [
    "dfcopy.corr()"
   ]
  },
  {
   "cell_type": "code",
   "execution_count": null,
   "id": "001e0538",
   "metadata": {},
   "outputs": [],
   "source": [
    "sns.heatmap(dfcopy.corr())"
   ]
  },
  {
   "cell_type": "code",
   "execution_count": null,
   "id": "d5bd1bad",
   "metadata": {},
   "outputs": [],
   "source": [
    "## Box plot to check for outliers \n",
    "sns.boxplot(dfcopy['FWI'])"
   ]
  },
  {
   "cell_type": "code",
   "execution_count": null,
   "id": "f441ff7f",
   "metadata": {},
   "outputs": [],
   "source": [
    "## Monthly Fire Analysis\n",
    "## Encoding of categorical classes\n",
    "\n",
    "dftemp = df.loc[df['Region']==1]\n",
    "plt.subplots(figsize=(10,10))\n",
    "sns.set_style('whitegrid')\n",
    "sns.countplot(x='month',hue='Classes',data=df)"
   ]
  },
  {
   "cell_type": "code",
   "execution_count": null,
   "id": "478b3918",
   "metadata": {},
   "outputs": [],
   "source": []
  }
 ],
 "metadata": {
  "kernelspec": {
   "display_name": "Python 3",
   "language": "python",
   "name": "python3"
  },
  "language_info": {
   "codemirror_mode": {
    "name": "ipython",
    "version": 3
   },
   "file_extension": ".py",
   "mimetype": "text/x-python",
   "name": "python",
   "nbconvert_exporter": "python",
   "pygments_lexer": "ipython3",
   "version": "3.11.4"
  }
 },
 "nbformat": 4,
 "nbformat_minor": 5
}
